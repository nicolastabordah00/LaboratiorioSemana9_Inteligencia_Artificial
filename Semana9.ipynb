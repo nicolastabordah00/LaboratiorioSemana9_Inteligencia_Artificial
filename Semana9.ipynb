{
 "cells": [
  {
   "cell_type": "markdown",
   "metadata": {},
   "source": [
    "__Autor: Christian Camilo Urcuqui López__\n",
    "\n",
    "__Date: 24 February 2019__"
   ]
  },
  {
   "cell_type": "markdown",
   "metadata": {},
   "source": [
    "# Reasoning\n",
    "\n",
    "It is an attribute of human being. The capacity of reasoning allows any person to remember information related to events and make new knowledge about things that we are not lived yet.\n",
    "\n",
    "This capacity allows us to classify objects and situations, through this we can recognize them and make decisions about them. For example, if someone shows us a computer we can identify it through its features, we can do this with things that we knew previously, for example:\n",
    "\n",
    "+ It has a mouse\n",
    "+ It has a monitor\n",
    "+ It has a keyboard\n",
    "+ Etc."
   ]
  },
  {
   "cell_type": "markdown",
   "metadata": {},
   "source": [
    "## Expert systems\n",
    "\n",
    "<img src=\"https://www.igcseict.info/theory/7_2/expert/files/stacks_image_5738.png\" />"
   ]
  },
  {
   "cell_type": "markdown",
   "metadata": {},
   "source": [
    "Since the first artificial intelligence works have tried to develop computers with reasoning capacities like humans. The first systems were called knowledge-based system (KBS) which don't reason but they are specially designed to resolve a specific complex problem through the application of logic rules (it is called the knowledge domine). "
   ]
  },
  {
   "cell_type": "markdown",
   "metadata": {},
   "source": [
    "These solutions have two main components, they are:\n",
    "\n",
    "+ The Knowledge Base\n",
    "\n",
    "This focuses to save the information about the domain to make conclusions about the inputs. \n",
    "+ The Inference Engine\n",
    "\n",
    "It is the reasoning process about the solution which searches information in the knowledge edge and it relates them to get a coherent conclusion related to the problem approached."
   ]
  },
  {
   "cell_type": "markdown",
   "metadata": {},
   "source": [
    "In a __Expert System__ the _inference engine_ is based in rules and a base of acts or memory of works. \n",
    "\n",
    "An act has information about a domain, and it allows us to associate acts with other new acts, like the next rule\n",
    "\n",
    "antecedent(x) $\\to$ consequent(x) \n",
    "\n",
    "In the inference engine we can find two search strategies, the most used is called _forward chaining_ and another is named _backward chaining_. In the forward chaining, the expert system makes inferences according to the antecedents of the rules.\n"
   ]
  },
  {
   "cell_type": "markdown",
   "metadata": {},
   "source": [
    "This notebook is divided in the next sections to explore the application of expert systems in Python:\n",
    "\n",
    "+ [Pyknow](#PyKnow)\n",
    "+ [Conditional Elements (CE): composing Patterns Together](#Conditional-Elements-(CE):-composing-Patterns-Together)\n",
    "+ [Field Constraints: FC for sort](#Field-Constraints:-FC-for-sort)\n",
    "+ [Composing FCs: &, | and ~](#Composing-FCs:-&,-|-and-~)\n",
    "+ [Variable Binding: The << Operator](#Variable-Binding:-The-<<-Operator)\n",
    "+ [Examples](#Examples)\n",
    "    + [Trafic Lights](#Trafic-Lights)\n",
    "    + [Chat](#Chat)\n",
    "    + [Rock–paper–scissors](#Rock–paper–scissors)"
   ]
  },
  {
   "cell_type": "markdown",
   "metadata": {},
   "source": [
    "## PyKnow\n",
    "\n",
    "let's see some frameworks which allows us to build some components of an expert system. Based in CLIPS (http://www.clipsrules.net/) PyKnow is going to give us the ways to apply this area. \n",
    "\n",
    "Let's install the library\n",
    "\n",
    "```\n",
    "pip install pyknow\n",
    "```\n"
   ]
  },
  {
   "cell_type": "code",
   "execution_count": 1,
   "metadata": {},
   "outputs": [],
   "source": [
    "from pyknow import *"
   ]
  },
  {
   "cell_type": "markdown",
   "metadata": {},
   "source": [
    "__Fact__ is a basic unit of PyKnow which are used by the system to reason about the problem. \n",
    "\n",
    "__Rule__ is a callable, decorated with _Rule_. Rules have two components, LHS (left-hand-side) and RHS (right-hand-side).\n",
    "\n",
    "+ The LHS describes (using patterns) the conditions on which the rule _n_ should be executed.\n",
    "+ The RHS is the set of actions to perform when the rule is fired\n",
    "\n",
    "```\n",
    "@Rule(<pattern_1>,\n",
    "<pattern_2>,\n",
    "...\n",
    "<pattern_n>)\n",
    "def _():\n",
    "pass\n",
    "```\n",
    "\"It behaves like AND by default\"\n",
    "\n",
    "\n",
    "For a Fact to match a Pattern, all pattern restrictions must be True when the Fact is evaluated against it. "
   ]
  },
  {
   "cell_type": "markdown",
   "metadata": {},
   "source": [
    "<img src=\"https://pyknow.readthedocs.io/en/stable/_images/graphviz-ce8d678ec7b2aa565c8b008562d17fd2aac6e97a.png\" />"
   ]
  },
  {
   "cell_type": "code",
   "execution_count": 4,
   "metadata": {},
   "outputs": [
    {
     "name": "stdout",
     "output_type": "stream",
     "text": [
      "1\n"
     ]
    }
   ],
   "source": [
    "f = Fact(a=1, b=2) # order is arbitraty\n",
    "print(f['a'])"
   ]
  },
  {
   "cell_type": "markdown",
   "metadata": {},
   "source": [
    "We can make a Fact without keys (only values), and Fact will create a numeric index for each value"
   ]
  },
  {
   "cell_type": "code",
   "execution_count": 5,
   "metadata": {},
   "outputs": [
    {
     "name": "stdout",
     "output_type": "stream",
     "text": [
      "y\n"
     ]
    }
   ],
   "source": [
    "f = Fact('x', 'y', 'z')\n",
    "print(f[1])"
   ]
  },
  {
   "cell_type": "markdown",
   "metadata": {},
   "source": [
    "Another think of Fact is the integration of different types of variables "
   ]
  },
  {
   "cell_type": "code",
   "execution_count": 7,
   "metadata": {},
   "outputs": [
    {
     "name": "stdout",
     "output_type": "stream",
     "text": [
      "x\n",
      "1\n"
     ]
    }
   ],
   "source": [
    "f = Fact('x', 'y', 'z', a=1, b=2)\n",
    "print(f[0])\n",
    "print(f['a'])"
   ]
  },
  {
   "cell_type": "markdown",
   "metadata": {},
   "source": [
    "We can subclass Fact to express different kinds of data or extend it with our functionalities "
   ]
  },
  {
   "cell_type": "code",
   "execution_count": 8,
   "metadata": {},
   "outputs": [
    {
     "name": "stdout",
     "output_type": "stream",
     "text": [
      "red\n",
      "critical\n"
     ]
    }
   ],
   "source": [
    "class Alert(Fact):\n",
    "    pass\n",
    "class Status(Fact):\n",
    "    pass\n",
    "f1 = Alert(color='red')\n",
    "f2 = Status(state='critical')\n",
    "print(f1['color'])\n",
    "print(f2['state'])"
   ]
  },
  {
   "cell_type": "markdown",
   "metadata": {},
   "source": [
    "Most of the time expert systems needs a set of facts to be present for the system to work. This is the purporse of the DefFacts decorator. So, all the DefFacts inside a KnowledgeEngine will be called every time the reset method is executed. "
   ]
  },
  {
   "cell_type": "code",
   "execution_count": 9,
   "metadata": {},
   "outputs": [],
   "source": [
    "@DefFacts()\n",
    "def needed_data():\n",
    "    yield Fact(best_color='red')\n",
    "    yield Fact(best_body='medium')\n",
    "    yield Fact(best_sweetness='dry')    "
   ]
  },
  {
   "cell_type": "code",
   "execution_count": 10,
   "metadata": {},
   "outputs": [],
   "source": [
    "# Rules\n",
    "class MyFact(Fact):\n",
    "    pass\n",
    "\n",
    "@Rule(MyFact()) # This is the LHS\n",
    "def matchWithEveryMYFact():\n",
    "    # This is the RHS\n",
    "    pass"
   ]
  },
  {
   "cell_type": "markdown",
   "metadata": {},
   "source": [
    "For example, let's apply the next rule, math with every Fact which:\n",
    "+ f[0] == 'animal'\n",
    "+ f['family'] == 'felinae'"
   ]
  },
  {
   "cell_type": "code",
   "execution_count": 12,
   "metadata": {},
   "outputs": [],
   "source": [
    "class MyFact(Fact):\n",
    "    pass\n",
    "@Rule(MyFact('animal', family='felinae'))\n",
    "def match_with_cats():\n",
    "    print(\"Meow!\")"
   ]
  },
  {
   "cell_type": "markdown",
   "metadata": {},
   "source": [
    "Another example, the user is a priviliged one and we are not dropping privileges."
   ]
  },
  {
   "cell_type": "code",
   "execution_count": 15,
   "metadata": {},
   "outputs": [],
   "source": [
    "class User(Fact):\n",
    "    pass\n",
    "@Rule(User('admin')|User('root'))\n",
    "def the_user_has_power():\n",
    "    enable_superpowers()"
   ]
  },
  {
   "cell_type": "markdown",
   "metadata": {},
   "source": [
    "### Conditional Elements (CE): composing Patterns Together"
   ]
  },
  {
   "cell_type": "markdown",
   "metadata": {},
   "source": [
    "__AND__\n",
    "\n",
    ".This creates a composed pattern containing all Facts passed as arguments. All of the passed patterns must match for the composed pattern to match."
   ]
  },
  {
   "cell_type": "code",
   "execution_count": 3,
   "metadata": {},
   "outputs": [],
   "source": [
    "# Match if two facts are declared, one martching Fact(1) and other matching Fact(2)\n",
    "@Rule(AND(Fact(1),Fact(2)))\n",
    "def _():\n",
    "    pass"
   ]
  },
  {
   "cell_type": "markdown",
   "metadata": {},
   "source": [
    "__OR__\n",
    "\n",
    "It creates a composed pattern in which any of the given pattern will make the rule match"
   ]
  },
  {
   "cell_type": "code",
   "execution_count": 4,
   "metadata": {},
   "outputs": [],
   "source": [
    "# Math if a fact matching Fact(1) exists and/or a fact matching Fact(2)\n",
    "@Rule(OR(Fact(1), Fact(2)))\n",
    "def _():\n",
    "    pass"
   ]
  },
  {
   "cell_type": "markdown",
   "metadata": {},
   "source": [
    "__NOT__\n",
    "\n",
    "This elements matches if the given pattern does not match with any fact or combination of facts. Therefore this element matches the absence of the given pattern"
   ]
  },
  {
   "cell_type": "code",
   "execution_count": 5,
   "metadata": {},
   "outputs": [],
   "source": [
    "# Match if not fact with Fact(1)\n",
    "@Rule(NOT(Fact(1)))\n",
    "def _():\n",
    "    pass"
   ]
  },
  {
   "cell_type": "markdown",
   "metadata": {},
   "source": [
    "__TEST__\n",
    "\n",
    "It checks the reveived callable against the current binded values. If the execution returns True the evaluation will continue and stops otherwise"
   ]
  },
  {
   "cell_type": "code",
   "execution_count": 23,
   "metadata": {},
   "outputs": [],
   "source": [
    "# Match for all numbers a, b, c where a > b > c\n",
    "class Number(Fact):\n",
    "    pass\n",
    "@Rule(Number(MATCH.a),\n",
    "    Number(MATCH.b),\n",
    "    TEST(lambda a, b: a > b),\n",
    "    Number(MATCH.c),\n",
    "    TEST(lambda b, c: b > c))\n",
    "def _(a, b, c):\n",
    "    pass"
   ]
  },
  {
   "cell_type": "markdown",
   "metadata": {},
   "source": [
    "__EXISTS__\n",
    "\n",
    "EXISTS receives a pattern and matches if one or more facts matches this pattern. This will match only once while one ore more matching facts exists and will stop matching when there is no matching facts."
   ]
  },
  {
   "cell_type": "code",
   "execution_count": 9,
   "metadata": {},
   "outputs": [],
   "source": [
    "# Match once when one or more Color exists\n",
    "class Color(Fact):\n",
    "    pass\n",
    "@Rule(EXISTS(Color()))\n",
    "def _():\n",
    "    pass"
   ]
  },
  {
   "cell_type": "markdown",
   "metadata": {},
   "source": [
    "__FORALL__\n",
    "\n",
    "This conditional element provides a mechanism for determining if a group of specified Conditional Element is satisfied for every occurrence of another specified CE"
   ]
  },
  {
   "cell_type": "code",
   "execution_count": 10,
   "metadata": {},
   "outputs": [],
   "source": [
    "# Match once when all CE are satisfied\n",
    "class Student(Fact):\n",
    "    pass\n",
    "class Reading(Fact):\n",
    "    pass\n",
    "class Writing(Fact):\n",
    "    pass\n",
    "class Arithmetic(Fact):\n",
    "    pass\n",
    "@Rule(FORALL(Student(W('name')),\n",
    "            Reading(W('name')),\n",
    "            Writing(W('name')),\n",
    "            Arithmetic(W('name'))))\n",
    "\n",
    "def all_students_passed():\n",
    "    pass"
   ]
  },
  {
   "cell_type": "markdown",
   "metadata": {},
   "source": [
    "## Field Constraints: FC for sort"
   ]
  },
  {
   "cell_type": "markdown",
   "metadata": {},
   "source": [
    "__L (Literal Field Constraint)__\n",
    "\n",
    "It allows the program to perform an exact match with the given value. The matching is donde using the equality operator ==."
   ]
  },
  {
   "cell_type": "code",
   "execution_count": 11,
   "metadata": {},
   "outputs": [],
   "source": [
    "# Match if the first element is exactly 3\n",
    "@Rule(Fact(L(3)))\n",
    "def _():\n",
    "    pass"
   ]
  },
  {
   "cell_type": "markdown",
   "metadata": {},
   "source": [
    "__W (Wildcard Field Constraint)__\n",
    "\n",
    "This element matches with any value."
   ]
  },
  {
   "cell_type": "code",
   "execution_count": 13,
   "metadata": {},
   "outputs": [],
   "source": [
    "# match if some fact is declared with the key mykey\n",
    "@Rule(Fact(mykey=W()))\n",
    "def _():\n",
    "      pass"
   ]
  },
  {
   "cell_type": "markdown",
   "metadata": {},
   "source": [
    "__P (Predicate Field Constraint):__\n",
    "\n",
    "The match of this element is the result of applying the given callable to the fact-extracted value. If the callable returns True the FC will match, in other case the FC will not match. "
   ]
  },
  {
   "cell_type": "code",
   "execution_count": 14,
   "metadata": {},
   "outputs": [],
   "source": [
    "# match is some fact is declared whose first parameter is an instance of int\n",
    "@Rule(Fact(P(lambda x: isinstance(x, int))))\n",
    "def _():\n",
    "    pass"
   ]
  },
  {
   "cell_type": "markdown",
   "metadata": {},
   "source": [
    "## Composing FCs: &, | and ~"
   ]
  },
  {
   "cell_type": "markdown",
   "metadata": {},
   "source": [
    "__ANDFC() - &__\n",
    "\n",
    "The composed FC matches if all the given FC match.\n"
   ]
  },
  {
   "cell_type": "code",
   "execution_count": 21,
   "metadata": {},
   "outputs": [],
   "source": [
    "# Match if key x of Point is a value between 0 and 255\n",
    "@Rule(Fact(x=P(lambda x: x >= 0) & P(lambda x: x <= 255)))\n",
    "def _():\n",
    "    pass"
   ]
  },
  {
   "cell_type": "markdown",
   "metadata": {},
   "source": [
    "__ORFC() - |__\n",
    "\n",
    "The composed FC matches if any of the given FC matches."
   ]
  },
  {
   "cell_type": "code",
   "execution_count": 24,
   "metadata": {},
   "outputs": [],
   "source": [
    "@Rule(Fact(name=L('Alice') | L('Bob')))\n",
    "def _():\n",
    "    pass"
   ]
  },
  {
   "cell_type": "markdown",
   "metadata": {},
   "source": [
    "__NOTFC() - ~__\n",
    "\n",
    "This composed FC negates the given FC, reversing the logic FC. "
   ]
  },
  {
   "cell_type": "code",
   "execution_count": 25,
   "metadata": {},
   "outputs": [],
   "source": [
    "# Match if name is not Charlie\n",
    "@Rule(Fact(name=~L('Charlie')))\n",
    "def _():\n",
    "    pass"
   ]
  },
  {
   "cell_type": "markdown",
   "metadata": {},
   "source": [
    "## Variable Binding: The << Operator\n",
    "\n",
    "Any pattern and some FC's can be binded to a name using the << operator."
   ]
  },
  {
   "cell_type": "code",
   "execution_count": 26,
   "metadata": {},
   "outputs": [],
   "source": [
    "# The first value of the matching fact will be blinded to the name value and passed to the function when fired\n",
    "@Rule(Fact('value' << W()))\n",
    "def _(value):\n",
    "    pass"
   ]
  },
  {
   "cell_type": "markdown",
   "metadata": {},
   "source": [
    "This is deprecated since version 1.2.0, for the last case it is best to use _Match_."
   ]
  },
  {
   "cell_type": "code",
   "execution_count": 28,
   "metadata": {},
   "outputs": [],
   "source": [
    "@Rule('f1' << Fact())\n",
    "def _(f1):\n",
    "    pass"
   ]
  },
  {
   "cell_type": "markdown",
   "metadata": {},
   "source": [
    "Deprecated since version 1.2.0: Use _AS_ object instead"
   ]
  },
  {
   "cell_type": "markdown",
   "metadata": {},
   "source": [
    "### MATCH Object\n",
    "\n",
    "This allows us to generate more readable name bindings."
   ]
  },
  {
   "cell_type": "code",
   "execution_count": 29,
   "metadata": {},
   "outputs": [],
   "source": [
    "@Rule(Fact(MATCH.myvalue))\n",
    "def _(myvalue):\n",
    "    pass"
   ]
  },
  {
   "cell_type": "markdown",
   "metadata": {},
   "source": [
    "The last example is exactly the same as:\n",
    "\n",
    "```\n",
    "@Rule(Fact('myvalue' << W()))\n",
    "def _(myvalue):\n",
    "    pass\n",
    "```"
   ]
  },
  {
   "cell_type": "markdown",
   "metadata": {},
   "source": [
    "### AS Object\n",
    "\n",
    "The AS object like the MATCH object is syntatic sugar for generating bindable names. In this case any attribute requested to the AS object will return a string with the same name."
   ]
  },
  {
   "cell_type": "code",
   "execution_count": 30,
   "metadata": {},
   "outputs": [],
   "source": [
    "@Rule(AS.myfact << Fact(W()))\n",
    "def _(myfact):\n",
    "    pass"
   ]
  },
  {
   "cell_type": "markdown",
   "metadata": {},
   "source": [
    "The last example is exactly the same as:\n",
    "\n",
    "```\n",
    "@Rule(\"myfact\" << Fact(W()))\n",
    "def _(myfact):\n",
    "    pass\n",
    "```"
   ]
  },
  {
   "cell_type": "markdown",
   "metadata": {},
   "source": [
    "## Examples"
   ]
  },
  {
   "cell_type": "markdown",
   "metadata": {},
   "source": [
    "### Trafic Lights"
   ]
  },
  {
   "cell_type": "markdown",
   "metadata": {},
   "source": [
    "In the next example we can implement our first hello world of expert systems in Python, look how we made the rules and how we defined their results. "
   ]
  },
  {
   "cell_type": "code",
   "execution_count": 1,
   "metadata": {},
   "outputs": [],
   "source": [
    "from random import choice\n",
    "from pyknow import *\n",
    "\n",
    "class Light(Fact):\n",
    "    \"\"\"Info about the traffic light.\"\"\"\n",
    "    pass\n",
    "\n",
    "\n",
    "class RobotCrossStreet(KnowledgeEngine):\n",
    "    @Rule(Light(color='green'))\n",
    "    def green_light(self):\n",
    "        print(\"Walk\")\n",
    "\n",
    "    @Rule(Light(color='red'))\n",
    "    def red_light(self):\n",
    "        print(\"Don't walk\")\n",
    "\n",
    "    @Rule(AS.light << Light(color=L('yellow') | L('blinking-yellow')))\n",
    "    def cautious(self, light):\n",
    "        print(\"Be cautious because light is\", light[\"color\"])"
   ]
  },
  {
   "cell_type": "markdown",
   "metadata": {},
   "source": [
    "The knowledgeEngine is the place where all the magic happens, the first step is to make a subclass of it and use Rule to decorate its methods. The next step is to instantiate it and run it. "
   ]
  },
  {
   "cell_type": "markdown",
   "metadata": {},
   "source": [
    "This is the usual process to execute a KnowledgeEngine.\n",
    "\n",
    "+ The class must be instantiated, of course.\n",
    "+ The reset method must be called:\n",
    "    + This declares the special fact InitialFact. Necessary for some rules to work properly.\n",
    "    + Declare all facts yielded by the methods decorated with @DefFacts.\n",
    "+ The run method must be called. This starts the cycle of execution."
   ]
  },
  {
   "cell_type": "code",
   "execution_count": 2,
   "metadata": {},
   "outputs": [
    {
     "name": "stdout",
     "output_type": "stream",
     "text": [
      "Be cautious because light is blinking-yellow\n"
     ]
    }
   ],
   "source": [
    "engine = RobotCrossStreet()\n",
    "engine.reset()\n",
    "engine.declare(Light(color=choice(['green', 'yellow', 'blinking-yellow', 'red'])))\n",
    "engine.run()"
   ]
  },
  {
   "cell_type": "markdown",
   "metadata": {},
   "source": [
    "### Chat"
   ]
  },
  {
   "cell_type": "code",
   "execution_count": 3,
   "metadata": {},
   "outputs": [
    {
     "name": "stdout",
     "output_type": "stream",
     "text": [
      "Where are you? icesi\n",
      "What's your name? kuky\n",
      "Hi kuky! How is the weather in icesi?\n"
     ]
    }
   ],
   "source": [
    "from random import choice\n",
    "from pyknow import *\n",
    "\n",
    "class Greetings(KnowledgeEngine):\n",
    "    # Most of the time expert systems needs a set of facts to be present \n",
    "    # for the system to work. This is the purpose of the DefFacts decorator\n",
    "    @DefFacts()\n",
    "    def _initial_action(self):\n",
    "        yield Fact(action=\"greet\")\n",
    "\n",
    "    @Rule(Fact(action='greet'),\n",
    "          NOT(Fact(name=W())))\n",
    "    def ask_name(self):\n",
    "        self.declare(Fact(name=input(\"What's your name? \")))\n",
    "\n",
    "    @Rule(Fact(action='greet'),\n",
    "          NOT(Fact(location=W())))\n",
    "    def ask_location(self):\n",
    "        self.declare(Fact(location=input(\"Where are you? \")))\n",
    "\n",
    "    @Rule(Fact(action='greet'),\n",
    "          Fact(name=MATCH.name),\n",
    "          Fact(location=MATCH.location))\n",
    "    def greet(self, name, location):\n",
    "        print(\"Hi %s! How is the weather in %s?\" % (name, location))\n",
    "\n",
    "engine = Greetings()\n",
    "engine.reset()  # Prepare the engine for the execution.\n",
    "engine.run()  # Run it!"
   ]
  },
  {
   "cell_type": "markdown",
   "metadata": {},
   "source": [
    "### Rock–paper–scissors"
   ]
  },
  {
   "cell_type": "markdown",
   "metadata": {},
   "source": [
    "Let's make a Rock–paper–scissors game "
   ]
  },
  {
   "cell_type": "code",
   "execution_count": 4,
   "metadata": {},
   "outputs": [],
   "source": [
    "from pyknow import *\n",
    "import random\n",
    "\n",
    "NERD = True"
   ]
  },
  {
   "cell_type": "code",
   "execution_count": 5,
   "metadata": {},
   "outputs": [
    {
     "name": "stdout",
     "output_type": "stream",
     "text": [
      "Lets play a game!\n",
      "You choose rock, paper, or scissors,\n",
      "and I'll do the same.\n",
      "Scissors (S), Paper (P), Rock (R)? r\n",
      "You win! Rock smashes scissors\n",
      "Play again?s\n",
      "You won 1 game(s).\n",
      "Computer won 0 game(s).\n",
      "We tied 0 game(s).\n"
     ]
    }
   ],
   "source": [
    "class WinTotals(Fact):\n",
    "    human = Field(int, default=0)\n",
    "    computer = Field(int, default=0)\n",
    "    ties = Field(int, default=0)\n",
    "    \n",
    "class Results(Fact):\n",
    "    winner = Field(str, mandatory=True)\n",
    "    loser = Field(str, mandatory=True)\n",
    "    why = Field(str, mandatory=True)\n",
    "    \n",
    "class ValidAnswer(Fact):\n",
    "    answer = Field(str, mandatory=True)\n",
    "    key = Field(str, mandatory=True)\n",
    "\n",
    "class Action(Fact):\n",
    "    pass\n",
    "\n",
    "class HumanChoice(Fact):\n",
    "    pass\n",
    "\n",
    "class ComputerChoice(Fact):\n",
    "    pass\n",
    "\n",
    "class RockPaperScissors(KnowledgeEngine):\n",
    "    def yes_or_no(self, question):\n",
    "        return input(question).upper().startswith('Y')\n",
    "    \n",
    "    @DefFacts()\n",
    "    def game_rules(self, is_nerd=False):\n",
    "        \"\"\"Declare game rules and valid input keys for the user.\"\"\"\n",
    "        self.valid_answers = dict()\n",
    "        \n",
    "        yield Results(winner='rock', loser='scissors', why='Rock smashes scissors')\n",
    "        yield Results(winner='paper', loser='rock', why='Paper covers rock')\n",
    "        yield Results(winner='scissors', loser='paper', why='Scissors cut paper')\n",
    "        yield ValidAnswer(answer='rock', key='r')\n",
    "        yield ValidAnswer(answer='paper', key='p')\n",
    "        yield ValidAnswer(answer='scissors', key='s')\n",
    "        \n",
    "        if is_nerd:\n",
    "            yield Results(winner='rock', loser='lizard', why='Rock crushes lizard')\n",
    "            yield Results(winner='spock', loser='rock', why='Spock vaporizes rock')\n",
    "            yield Results(winner='spock', loser='scissors', why='Spock smashes scissors')\n",
    "            yield Results(winner='paper', loser='spock', why='Paper disproves Spock')\n",
    "            yield Results(winner='scissors', loser='lizard', why='Scissors decapitates lizard')\n",
    "            yield Results(winner='lizard', loser='paper', why='Lizard eats paper')\n",
    "            yield Results(winner='lizard', loser='spock', why='Lizard poisons Spock')\n",
    "            yield ValidAnswer(answer='spock', key='k')\n",
    "            yield ValidAnswer(answer='lizard', key='l')\n",
    "            \n",
    "    @Rule()\n",
    "    def startup(self):\n",
    "        print(\"Lets play a game!\")\n",
    "        print(\"You choose rock, paper, or scissors,\")\n",
    "        print(\"and I'll do the same.\")\n",
    "        self.declare(WinTotals(human=0, computer=0, ties=0))\n",
    "        self.declare(Action('get-human-move'))\n",
    "        \n",
    "    @Rule(NOT(Action()),\n",
    "          ValidAnswer(answer=MATCH.answer,\n",
    "                      key=MATCH.key))\n",
    "    def store_valid_answers(self, answer, key):\n",
    "        self.valid_answers[key] = answer\n",
    "        \n",
    "    #\n",
    "    # HUMAN MOVE RULES\n",
    "    #\n",
    "    @Rule(Action('get-human-move'))\n",
    "    def get_human_move(self):\n",
    "        question = \", \".join(\n",
    "            \"{name} ({key})\".format(\n",
    "                name=a[1].title(), key=a[0].upper())\n",
    "            for a in self.valid_answers.items()) + '? '\n",
    "        res = input(question).lower()\n",
    "        self.declare(HumanChoice(res))\n",
    "    \n",
    "    @Rule(AS.f1 << HumanChoice(MATCH.choice),\n",
    "          ValidAnswer(answer=MATCH.answer,\n",
    "                      key=MATCH.choice),\n",
    "          AS.f2 << Action('get-human-move'))\n",
    "    def good_human_move(self, f1, f2, answer):\n",
    "        self.retract(f1)\n",
    "        self.retract(f2)\n",
    "        self.declare(HumanChoice(answer))\n",
    "        self.declare(Action('get-computer-move'))\n",
    "    \n",
    "    @Rule(AS.f1 << HumanChoice(MATCH.choice),\n",
    "          NOT(ValidAnswer(key=MATCH.choice)),\n",
    "          AS.f2 << Action('get-human-move'))\n",
    "    def bad_human_move(self, f1, f2, choice):\n",
    "        print(\"Sorry %s is not a valid answer\" % choice)\n",
    "        self.retract(f1)\n",
    "        self.retract(f2)\n",
    "        self.declare(Action('get-human-move'))\n",
    "    \n",
    "    #\n",
    "    # COMPUTER MOVE RULES\n",
    "    #\n",
    "    @Rule(AS.f1 << Action('get-computer-move'))\n",
    "    def get_computer_move(self, f1):\n",
    "        choice = random.choice(list(self.valid_answers.values()))\n",
    "        self.retract(f1)\n",
    "        self.declare(ComputerChoice(choice))\n",
    "        self.declare(Action('determine-results'))\n",
    "\n",
    "    #\n",
    "    # WIN DETERMINATION RULES\n",
    "    #\n",
    "    @Rule(AS.f1 << Action('determine-results'),\n",
    "          AS.f2 << ComputerChoice(MATCH.cc),\n",
    "          AS.f3 << HumanChoice(MATCH.hc),\n",
    "          AS.w << WinTotals(computer=MATCH.cw),\n",
    "          Results(winner=MATCH.cc,\n",
    "                  loser=MATCH.hc,\n",
    "                  why=MATCH.explanation))\n",
    "    def computer_wins(self, f1, f2, f3, w, cw, explanation):\n",
    "        self.retract(f1)\n",
    "        self.retract(f2)\n",
    "        self.retract(f3)\n",
    "        self.modify(w, computer=cw + 1)\n",
    "        print(\"Computer wins!\", explanation)\n",
    "        self.declare(Action('determine-play-again'))\n",
    "        \n",
    "    @Rule(AS.f1 << Action('determine-results'),\n",
    "          AS.f2 << ComputerChoice(MATCH.cc),\n",
    "          AS.f3 << HumanChoice(MATCH.hc),\n",
    "          'w' << WinTotals(human=MATCH.hw),\n",
    "          Results(winner=MATCH.hc,\n",
    "                  loser=MATCH.cc,\n",
    "                  why=MATCH.explanation))\n",
    "    def humans_wins(self, f1, f2, f3, w, hw, explanation):\n",
    "        self.retract(f1)\n",
    "        self.retract(f2)\n",
    "        self.retract(f3)\n",
    "        self.modify(w, human=hw + 1)\n",
    "        print(\"You win!\", explanation)\n",
    "        self.declare(Action('determine-play-again'))\n",
    "        \n",
    "    @Rule(AS.f1 << Action('determine-results'),\n",
    "          AS.f2 << ComputerChoice(MATCH.cc),\n",
    "          AS.f3 << HumanChoice(MATCH.cc),\n",
    "          AS.w << WinTotals(ties=MATCH.nt))\n",
    "    def tie(self, f1, f2, f3, w, nt):\n",
    "        self.retract(f1)\n",
    "        self.retract(f2)\n",
    "        self.retract(f3)\n",
    "        self.modify(w, ties=nt + 1)\n",
    "        print(\"Tie! Ha-ha!\")\n",
    "        self.declare(Action('determine-play-again'))\n",
    "    \n",
    "    #\n",
    "    # PLAY AGAIN RULE\n",
    "    #\n",
    "    @Rule(AS.f1 << Action('determine-play-again'),\n",
    "          WinTotals(computer=MATCH.ct,\n",
    "                    human=MATCH.ht,\n",
    "                    ties=MATCH.tt))\n",
    "    def play_again(self, f1, ct, ht, tt):\n",
    "        self.retract(f1)\n",
    "        if not self.yes_or_no(\"Play again?\"):\n",
    "            print(\"You won\", ht, \"game(s).\")\n",
    "            print(\"Computer won\", ct, \"game(s).\")\n",
    "            print(\"We tied\", tt, \"game(s).\")\n",
    "            self.halt()\n",
    "        else:\n",
    "            self.declare(Action('get-human-move'))\n",
    "            \n",
    "rps = RockPaperScissors()\n",
    "rps.reset()\n",
    "rps.run()"
   ]
  },
  {
   "cell_type": "markdown",
   "metadata": {},
   "source": [
    "## Taller\n",
    "\n",
    "Se propone como entregable de esta unidad la implementación de las reglas del proyecto \"SISTEMA PARA UTILIZACIÓN EFICIENTE DE LOS RECURSOS DE FERTILIZACIÓN EN CULTIVOS DE CAÑA DE AZÚCAR EN EL VALLE GEOGRÁFICO DEL RIO CAUCA\", proyecto realizado por los estudiantes y profesores: Álvaro Pachón De La Cruz, Gonzalo Llano Ramírez, Luis Eduardo Múnera, Camilo Barrios Pérez, Claudia Lubo, Julián Borrero, y Gonzalo Calderón. \n",
    "\n",
    "En el presente proyecto se han desarrollado distintos componentes que permiten ejecutar el diagnóstico del suelo, la propuesta de recomendaciones con base al diagnóstico y a la implementación de la fertilización.\n",
    "\n",
    "La propuesta implementa un sistema experto con alrededor de 346 reglas que hacen parte de los componentes mencionados. Con el fin que ustedes puedan ver la aplicación de un sistema experto en Python, se le ha encomendado implementar las primeras __48__ reglas que permiten realizar el diagnostico con base a tres variables: \n",
    "+ Ph\n",
    "+ CE (conductividad eléctrica)\n",
    "+ Textura del suelo\n",
    "\n",
    "Las reglas las puede encontrar en el siguiente repositorio:\n",
    "https://github.com/kmilichus/AgroTIC/blob/master/ExpertoFertilizacion/src/main/resources/reglas.drl\n"
   ]
  },
  {
   "cell_type": "markdown",
   "metadata": {},
   "source": [
    "## References\n",
    "\n",
    "+ https://media.readthedocs.org/pdf/pyknow/latest/pyknow.pdf\n",
    "+ https://es.slideshare.net/ahmadhussein45/expert-system-with-python-2"
   ]
  },
  {
   "cell_type": "markdown",
   "metadata": {},
   "source": [
    "# 48 REGLAS - BEYCKER ÁGREDO - NICOLÁS TABORDA"
   ]
  },
  {
   "cell_type": "code",
   "execution_count": 2,
   "metadata": {},
   "outputs": [],
   "source": [
    "from pyknow import *\n",
    "\n",
    "class AnalisisDeSuelo(Fact):\n",
    "    pass\n",
    "#rule 0\n",
    "@Rule(AnalisisDeSuelo(ph=P(lambda ph: ph>=7.2)))\n",
    "def metodo():\n",
    "    \n",
    "        print(\"\\n\\n\\n\")\n",
    "        print(\"==> ph: ALCALINO\")\n",
    "        \n",
    "#rule 1       \n",
    "@Rule(AnalisisDeSuelo(ph=P(lambda ph: 6.8<ph<7.2)))\n",
    "def metodo():\n",
    "    \n",
    "        print(\"\\n\\n\\n\")\n",
    "        print(\"==> ph: LIGERAMENTE ALCALINO\")\n",
    "\n",
    "#rule 2  \n",
    "@Rule(AnalisisDeSuelo(ph=P(lambda ph: ph >=6.2) & P(lambda ph: ph<=6.8)))\n",
    "def metodo():\n",
    "    \n",
    "        print(\"\\n\\n\\n\")\n",
    "        print(\"==> ph: NEUTRO\")\n",
    "        \n",
    "#rule 3       \n",
    "@Rule(AnalisisDeSuelo(ph=P(lambda ph: 5.6<ph<6.2)))\n",
    "def metodo():\n",
    "    \n",
    "        print(\"\\n\\n\\n\")\n",
    "        print(\"==> ph: LIGERAMENTE ALCALINO\")\n",
    "        \n",
    "#rule 4     \n",
    "@Rule(AnalisisDeSuelo((lambda ph: ph<=5.6)))\n",
    "def metodo():\n",
    "    \n",
    "        print(\"\\n\\n\\n\")\n",
    "        print(\"==> ph: ACIDO\")\n",
    "\n",
    "#rule 5      \n",
    "@Rule(AnalisisDeSuelo(CE=P(lambda CE: CE < 0.8)))\n",
    "def metodo():\n",
    "    \n",
    "        print(\"\\n\\n\\n\")\n",
    "        print(\"==> conductividadElectrica: BAJA\")\n",
    "        \n",
    "#rule 6   \n",
    "@Rule(AnalisisDeSuelo(CE=P(lambda CE: CE >= 0.8)))\n",
    "def metodo():\n",
    "    \n",
    "        print(\"\\n\\n\\n\")\n",
    "        print(\"==> conductividadElectrica: ALTA\")\n",
    "        \n",
    "#rule 7 \n",
    "@Rule(AnalisisDeSuelo((lambda PH:PH==ALCALINO)))\n",
    "def metodo():\n",
    "    \n",
    "        print(\"\\n\\n\\n\")\n",
    "        print(\"==> ExtractoSoluble: True\")\n",
    "        \n",
    "#rule 8     \n",
    "@Rule(AnalisisDeSuelo(PH=P(lambda PH:PH==\"LIGERAMENTE ALCALINO\")))\n",
    "def metodo():\n",
    "    \n",
    "        print(\"\\n\\n\\n\")\n",
    "        print(\"==> ExtractoSoluble: True\")\n",
    "        \n",
    "#rule 9\n",
    "@Rule(AnalisisDeSuelo(arcilla=P(lambda arcilla:arcilla>=40.0) & P(lambda PH:PH==\"ALCALINO\") &  P(lambda CE:CE==\"ALTA\") ))\n",
    "def metodo():\n",
    "    \n",
    "        print(\"\\n\\n\\n\")\n",
    "        print(\"     |-(1) Limitaciones de movimientos de agua\")\n",
    "        print(\"     |-(2) Baja difusion de oxigeno y flujo de gases\")\n",
    "        print(\"     |-(3) Baja mineralizacion de MO (Baja actividad microbiologica)\")\n",
    "        print(\"     |-(4) Acumulacion de iones alcalinoterreos    \")\n",
    "    \n",
    "\n",
    "#rule 10\n",
    "@Rule(AnalisisDeSuelo(arena=P(lambda arena:arena>=50.0) & P(lambda PH:PH==\"ALCALINO\")& P(lambda CE:CE==\"ALTA\")))\n",
    "def metodo():\n",
    "    \n",
    "        print(\"\\n\\n\\n\")\n",
    "        print(\"     |-(1) Revisar las mediciones realizadas\")\n",
    "\n",
    "#rule 11     \n",
    "@Rule(AnalisisDeSuelo(arena=P(lambda arena:arena>=50.0) & P(lambda PH:PH==\"ALCALINO\")& P(lambda CE:CE==\"ALTA\")))\n",
    "def metodo():\n",
    "    \n",
    "        print(\"\\n\\n\\n\")\n",
    "        print(\"     |-(1) Coloraciones grises suelo (Glaizeado)\");\n",
    "        print(\"     |-(2) Suelo Hidromorfico\");    \n",
    "        print(\"     |-(3) Limitaciones fisicas temporales\");\n",
    "        print(\"     |-(4) Baja difusion de Oxigeno y flujo de gases\");\n",
    "\n",
    "#rule 12     \n",
    "@Rule(AnalisisDeSuelo(limo=P(lambda limo:limo <= 40.0) &  P(lambda arena:arena <= 40.0) & P(lambda arcilla:arcilla <= 40.0) & P(lambda PH:PH == \"ALCALINO\") & P(lambda CE:CE == \"ALTA\")))\n",
    "def metodo():\n",
    "    \n",
    "        print(\"\\n\\n\\n\")\n",
    "        print(\"     |-(1) Baja disponibilidad de Fosforo (Precipitación)\")\n",
    "        print(\"     |-(2) Baja disponibilidad de Calcio\")\n",
    "\n",
    "        \n",
    "#rule 13     \n",
    "@Rule(AnalisisDeSuelo(arcilla=P(lambda arcilla:arcilla >= 40.0) & P(lambda PH:PH == \"ALCALINO\") & P(lambda CE:CE == \"BAJA\")))\n",
    "def metodo():\n",
    "    \n",
    "        print(\"\\n\\n\\n\")\n",
    "        print(\"     |-(1) Limitaciones de movimiento de agua\");\n",
    "        print(\"     |-(2) Baja difusion de Oxigeno y flujo de gases\");    \n",
    "        print(\"     |-(3) Baja mineralizacion de MO (Baja actvidad microbiologica\");\n",
    "        print(\"     |-(4) Acumulacion de iones alcalinoterreos\t\");\n",
    "        print(\"     |-(5) Baja disponibilidad de elementos menores \");\n",
    "\n",
    "\n",
    "        \n",
    "#rule 14 \n",
    "@Rule(AnalisisDeSuelo(arena=P(lambda arena:arena >= 50.0) & P(lambda PH:PH == \"ALCALINO\") & P(lambda CE:CE == \"BAJA\")))\n",
    "def metodo():\n",
    "    \n",
    "        print(\"\\n\\n\\n\")\n",
    "        print(\"     |-(1) Revisar las mediciones realizadas.\");\n",
    "        \n",
    "            \n",
    "        \n",
    "#rule 15    \n",
    "@Rule(AnalisisDeSuelo(limo=P(lambda limo:limo >= 45.0) & P(lambda PH:PH == \"ALCALINO\") & P(lambda CE:CE == \"BAJA\")))\n",
    "def metodo():\n",
    "    \n",
    "        print(\"\\n\\n\\n\")\n",
    "        print(\"     |-(1) Coloraciones grises suelo (Glaizeado)\");\n",
    "        print(\"     |-(2) Suelo Hidromorfico\");    \n",
    "        print(\"     |-(3) Limitaciones fisicas temporales\");\n",
    "        print(\"     |-(4) Baja difusion de Oxigeno y flujo de gases\");\n",
    "        print(\"     |-(5) Baja disponibilidad de elementos menores \");\n",
    "\n",
    "#rule 16  \n",
    "@Rule(AnalisisDeSuelo(limo=P(lambda limo:limo <= 40.0) &  P(lambda arena:arena <= 40.0) & P(lambda PH:PH == \"ALCALINO\") & P(lambda CE:CE == \"ALTA\")))\n",
    "def metodo():\n",
    "    \n",
    "        print(\"\\n\\n\\n\")\n",
    "        print(\"     |-(1) Baja disponibilidad de Fosforo (Precipitación)\");\n",
    "        print(\"     |-(2) Baja disponibilidad de Calcio\");   \n",
    "        print(\"     |-(3) Baja disponibilidad de elementos menores \")\n",
    "\n",
    "#rule 17     \n",
    "@Rule(AnalisisDeSuelo(arcilla=P(lambda arcilla:arcilla >= 40.0) & P(lambda PH:PH == \"LIGERAMENTE ALCALINO\") & P(lambda CE:CE == \"ALTA\")))\n",
    "def metodo():\n",
    "    \n",
    "        print(\"\\n\\n\\n\")\n",
    "        print(\"     |-(1) Limitaciones de movimiento de agua\");\n",
    "        print(\"     |-(2) Baja difusion de Oxigeno y flujo de gases\");    \n",
    "        print(\"     |-(3) Baja mineralizacion de MO (Baja actvidad microbiologica\");\n",
    "        print(\"     |-(4) Acumulacion de iones alcalinoterreos\t\");\n",
    "        print(\"     |-(5) Alta saturación de calcio\");\n",
    "        print(\"     |-(6) Salinidad en el suelo\");\n",
    "        print(\"     |-(7) Baja disponibilidad de Fosforo (Precipitación)\");\n",
    "\n",
    "#rule 18    \n",
    "@Rule(AnalisisDeSuelo(areba=P(lambda arena:arena >= 50.0) & P(lambda PH:PH == \"LIGERAMENTE ALCALINO\") & P(lambda CE:CE == \"ALTA\")))\n",
    "def metodo():\n",
    "    \n",
    "        print(\"\\n\\n\\n\")\n",
    "        print(\"     |-(1) Revisar las mediciones realizadas.\");\n",
    "\n",
    "        \n",
    "#rule 19     \n",
    "@Rule(AnalisisDeSuelo(arcilla=P(lambda arcilla:arcilla >= 45.0) & P(lambda PH:PH == \"LIGERAMENTE ALCALINO\") & P(lambda CE:CE == \"ALTA\")))\n",
    "def metodo():\n",
    "    \n",
    "        print(\"\\n\\n\\n\")\n",
    "        print(\"     |-(1) Coloraciones grises suelo (Glaizeado)\")\n",
    "        print(\"     |-(2) Suelo Hidromorfico\")  \n",
    "        print(\"     |-(3) Limitaciones fisicas temporales\")\n",
    "        print(\"     |-(4) Baja difusion de Oxigeno y flujo de gases\")\n",
    "        \n",
    "#rule 20\n",
    "@Rule(AnalisisDeSuelo(limo=P(lambda limo:limo <= 40.0) & P(lambda arena:arena <= 40.0) & P(lambda PH:PH == \"LIGERAMENTE ALCALINO\")& P(lambda CE:CE == \"ALTA\")))\n",
    "def metodo():\n",
    "    \n",
    "        print(\"\\n\\n\\n\")\n",
    "        print(\"     |-(1) Baja disponibilidad de Fosforo (Precipitación)\")\n",
    "        print(\"     |-(2) Baja disponibilidad de Calcio\") \n",
    "        \n",
    "#rule 21\n",
    "@Rule(AnalisisDeSuelo(arcilla=P(lambda arcilla:arcilla >= 40.0) & P(lambda PH:PH <= \"LIGERAMENTE ALCALINO\") & P(lambda CE:CE == \"BAJA\")))\n",
    "def metodo():\n",
    "    \n",
    "        print(\"\\n\\n\\n\");\n",
    "        print(\"     |-(1) Limitaciones de movimiento de agua\")\n",
    "        print(\"     |-(2) Baja difusion de Oxigeno y flujo de gases\")    \n",
    "        print(\"     |-(3) Baja mineralizacion de MO (Baja actvidad microbiologica\")\n",
    "        print(\"     |-(4) Acumulacion de iones alcalinoterreos\")\n",
    "        print(\"     |-(5) Baja disponibilidad de elementos menores \")\n",
    "\n",
    "#rule 22\n",
    "@Rule(AnalisisDeSuelo( arena=P(lambda arena:arena >= 50.0) & P(lambda PH:PH == \"LIGERAMENTE ALCALINO\") & P(lambda CE:CE == BAJA)))               \n",
    "def metodo():\n",
    "    \n",
    "        print(\"\\n\\n\\n\")\n",
    "        print(\"     |-(1) Revisar las mediciones realizadas.\");\n",
    "       \n",
    "    \n",
    "#rule 23\n",
    "@Rule(AnalisisDeSuelo( limo=P(lambda limo:limo >= 45.0) & P(lambda PH:PH == \"LIGERAMENTE ALCALINO\") & P(lambda CE:CE== BAJA)))             \n",
    "def metodo():\n",
    "    \n",
    "        print(\"\\n\\n\\n\");\n",
    "        print(\"     |-(1) Coloraciones grises suelo (Glaizeado)\");\n",
    "        print(\"     |-(2) Suelo Hidromorfico\");    \n",
    "        print(\"     |-(3) Limitaciones fisicas temporales\");\n",
    "        print(\"     |-(4) Baja difusion de Oxigeno y flujo de gases\");\n",
    "        print(\"     |-(5) Baja disponibilidad de elementos menores \");\n",
    "        \n",
    "#rule 24\n",
    "@Rule(AnalisisDeSuelo( limo=P(lambda limo:limo <= 40.0) &  P(lambda arena:arena <= 40.0) & P(lambda arcilla:arcilla <= 40.0) & P(lambda PH:PH == \"LIGERAMENTE ALCALINO\") & P(lambda CE:CE == ALTA)) )            \n",
    "def metodo():\n",
    "    \n",
    "        print(\"\\n\\n\\n\");\n",
    "        print(\"     |-(1) Baja disponibilidad de Fosforo (Precipitación)\");\n",
    "        print(\"     |-(2) Baja disponibilidad de Calcio\");   \n",
    "        print(\"     |-(3) Baja disponibilidad de elementos menores \"); \n",
    "        \n",
    "        \n",
    "\n",
    "#rule 25\n",
    "@Rule(AnalisisDeSuelo( arcilla=P(lambda arcilla:arcilla >= 40.0) & P(lambda PH:PH == NEUTRO) & P(lambda CE:CE == ALTA)) )            \n",
    "def metodo():\n",
    "    \n",
    "        print(\"\\n\\n\\n\");\n",
    "        print(\"     |-(1) Baja mineralizacion de MO (Baja actvidad microbiologica)\t\");\n",
    "        print(\"     |-(2) Baja difusion de Oxigeno y flujo de gases\");    \n",
    "        print(\"     |-(3) Salinidad en el suelo\");\n",
    "        \n",
    "        \n",
    "        \n",
    "#rule 26\n",
    "@Rule(AnalisisDeSuelo( arena=P(lambda arena:arena >= 50.0) & P(lambda PH:PH == NEUTRO) & P(lambda CE:CE == ALTA)) )            \n",
    "def metodo():\n",
    "    \n",
    "        print(\"\\n\\n\\n\");\n",
    "        print(\"     |-(1) Revisar las mediciones realizadas.\");\n",
    "        \n",
    "\n",
    "#rule 27\n",
    "@Rule(AnalisisDeSuelo(limo=P(lambda limo:limo >= 45.0) & P(lambda PH:PH == NEUTRO) & P(lambda CE:CE == ALTA)) )            \n",
    "def metodo():\n",
    "    \n",
    "        print(\"\\n\\n\\n\");\n",
    "        print(\"     |-(1) Salinidad en el suelo\")\n",
    "\n",
    "\n",
    "#rule 28\n",
    "@Rule(AnalisisDeSuelo(limo=P(lambda limo:limo <= 40.0) &  P(lambda arena:arena <= 40.0) & P(lambda arcilla:arcilla <= 40.0) & P(lambda PH:PH == NEUTRO) & P(lambda CE:CE == ALTA)) )            \n",
    "def metodo():\n",
    "    \n",
    "        print(\"\\n\\n\\n\");\n",
    "        \n",
    "#rule 29\n",
    "@Rule(AnalisisDeSuelo(arcilla=P(lambda arcilla:arcilla >= 40.0) & P(lambda PH:PH == NEUTRO) & P(lambda CE:CE == BAJA)) )            \n",
    "def metodo():\n",
    "    \n",
    "        print(\"\\n\\n\\n\");\n",
    "        print(\"     |-(1) Baja mineralizacion de MO (Baja actvidad microbiologica)\t\");\n",
    "        print(\"     |-(2) Baja difusion de Oxigeno y flujo de gases\");    \n",
    "        print(\"     |-(3) Limitaciones de movimiento de agua\");\n",
    "        \n",
    "#rule 30\n",
    "@Rule(AnalisisDeSuelo(arena=P( lambda arena:arena >= 50.0) & P(lambda PH:PH == NEUTRO) & P(lambda CE:CE == BAJA)) )            \n",
    "def metodo():\n",
    "    \n",
    "        print(\"\\n\\n\\n\");\n",
    "        print(\"     |-(1) Revisar las mediciones realizadas.\");\n",
    "\n",
    "\n",
    "#rule 31\n",
    "@Rule(AnalisisDeSuelo(limo=P(lambda limo:limo >= 45.0) & P(lambda PH:PH == NEUTRO) & P(lambda CE:CE== BAJA)) )            \n",
    "def metodo():\n",
    "    \n",
    "        print(\"\\n\\n\\n\");\n",
    "        print(\"     |-(1) Coloraciones grises suelo (Glaizeado)\");\n",
    "        \n",
    "#rule 32\n",
    "@Rule(AnalisisDeSuelo(limo=P(lambda limo:limo <= 40.0) &  P(lambda arena:arena <= 40.0) & P(lambda arcilla:arcilla <= 40.0) & P(lambda PH:PH == NEUTRO) & P(lambda CE:CE == ALTA)) )            \n",
    "def metodo():\n",
    "    \n",
    "        print(\"\\n\\n\\n\");\n",
    "        \n",
    "#rule 33\n",
    "@Rule(AnalisisDeSuelo(arcilla=P(lambda arcilla:arcilla >= 40.0) & P(lambda PH:PH == \"LIGERAMENTE ACIDO\") & P(lambda CE:CE == ALTA)) )            \n",
    "def metodo():\n",
    "    \n",
    "        print(\"\\n\\n\\n\");\n",
    "        print(\"     |-(1) Limitaciones de movimiento de agua\");\n",
    "        print(\"     |-(2) Baja difusion de Oxigeno y flujo de gases\");    \n",
    "        print(\"     |-(3) Baja mineralizacion de MO (Baja actvidad microbiologica\");\n",
    "        print(\"     |-(4) Acumulacion de iones alcalinoterreos\");\n",
    "        print(\"     |-(5) Alta saturación de calcio\");\n",
    "        print(\"     |-(6) Salinidad en el suelo\");\n",
    "        print(\"     |-(7) Baja disponibilidad de Fosforo (Precipitación)\");\n",
    "            \n",
    "        \n",
    "#rule 34\n",
    "@Rule(AnalisisDeSuelo(arena=P(lambda arena:arena >= 50.0) & P(lambda PH:PH == \"LIGERAMENTE ACIDO\")& P(lambda CE:CE == ALTA)) )            \n",
    "def metodo():\n",
    "    \n",
    "        print(\"\\n\\n\\n\");\n",
    "        print(\"     |-(1) Revisar las mediciones realizadas.\");\n",
    "        \n",
    "#rule 35\n",
    "@Rule(AnalisisDeSuelo(limo=P(lambda limo:limo >= 45.0) & P(lambda PH:PH == \"LIGERAMENTE ACIDO\") & P(lambda CE:CE == ALTA)) )            \n",
    "def metodo():\n",
    "        print(\"\\n\\n\\n\");\n",
    "        print(\"     |-(1) Contenido de Aluminio\");\n",
    "        print(\"     |-(2) Sulfatos altos\");    \n",
    "        print(\"     |-(3) Impedancia\");\n",
    "        \n",
    "        \n",
    "#rule 36\n",
    "@Rule(AnalisisDeSuelo(limo=P(lambda limo:limo <= 40.0) &  P(lambda arena:arena <= 40.0) & P(lambda arcilla:arcilla <= 40.0) &  P(lambda PH:PH == \"LIGERAMENTE ACIDO\") & P(lambda CE:CE == ALTA)) )            \n",
    "def metodo():\n",
    "    \n",
    "        print(\"\\n\\n\\n\");\n",
    "        print(\"     |-(1) Baja disponibilidad de Fosforo (Precipitación)\");\n",
    "        print(\"     |-(2) Baja disponibilidad de Calcio\");  \n",
    "                       \n",
    "\n",
    "#rule 37\n",
    "@Rule(AnalisisDeSuelo(P(lambda arcilla:arcilla >= 40.0) & P(lambda PH:PH == \"LIGERAMENTE ACIDO\") & P(lambda CE:CE== BAJA)) )            \n",
    "def metodo():\n",
    "    \n",
    "        print(\"\\n\\n\\n\");\n",
    "        print(\"     |-(1) Limitaciones de movimiento de agua\");\n",
    "        print(\"     |-(2) Baja difusion de Oxigeno y flujo de gases\");    \n",
    "        print(\"     |-(3) Baja mineralizacion de MO (Baja actvidad microbiologica\");\n",
    "        print(\"     |-(4) Acumulacion de iones alcalinoterreos\t\");\n",
    "        print(\"     |-(5) Baja disponibilidad de elementos menores \");       \n",
    "        \n",
    "        \n",
    "#rule 38\n",
    "@Rule(AnalisisDeSuelo( arena =P(lambda arena:arena >= 50.0) & P(lambda PH:PH == \"LIGERAMENTE ACIDO\") & P(lambda CE:CE == BAJA)) )            \n",
    "def metodo():\n",
    "    \n",
    "        print(\"\\n\\n\\n\");\n",
    "        print(\"     |-(1) Revisar las mediciones realizadas.\");\n",
    "        \n",
    "#rule 39\n",
    "@Rule(AnalisisDeSuelo( limo=P(lambda limo:limo >= 45.0) & P(lambda PH:PH == \"LIGERAMENTE ACIDO\") & P(lambda CE:CE== BAJA)) )            \n",
    "def metodo():\n",
    "    \n",
    "        print(\"\\n\\n\\n\");\n",
    "        print(\"     |-(1) Coloraciones grises suelo (Glaizeado)\");\n",
    "        print(\"     |-(2) Suelo Hidromorfico\");    \n",
    "        print(\"     |-(3) Limitaciones fisicas temporales\");\n",
    "        print(\"     |-(4) Baja difusion de Oxigeno y flujo de gases\");\n",
    "        print(\"     |-(5) Baja disponibilidad de elementos menores \");\n",
    "        \n",
    "        \n",
    "#rule 40\n",
    "@Rule(AnalisisDeSuelo( limo=P( lambda limo:limo <= 40.0) &  P(lambda arena:arena <= 40.0) & P(lambda arcilla:arcilla <= 40.0) & P(lambda PH:PH == \"LIGERAMENTE ACIDO\") & P(lambda CE:CE== ALTA)) )            \n",
    "def metodo():\n",
    "    \n",
    "        print(\"\\n\\n\\n\");\n",
    "        print(\"     |-(1) Baja disponibilidad de Fosforo (Precipitación)\");\n",
    "        print(\"     |-(2) Baja disponibilidad de Calcio\");   \n",
    "        print(\"     |-(3) Baja disponibilidad de elementos menores \"); \n",
    "                     \n",
    "\n",
    "#rule 41\n",
    "@Rule(AnalisisDeSuelo(arcilla=P( lambda  arcilla:arcilla >= 40.0) & P(lambda PH:PH == ACIDO) & P(lambda CE:CE == ALTA)) )            \n",
    "def metodo():\n",
    "    \n",
    "        print(\"\\n\\n\\n\");\n",
    "        print(\"     |-(1) Limitaciones de movimiento de agua\");\n",
    "        print(\"     |-(2) Baja difusion de Oxigeno y flujo de gases\");    \n",
    "        print(\"     |-(3) Acumulacion de iones alcalinoterreos\t\");\n",
    "        print(\"     |-(4) Salinidad en el suelo\");\n",
    "        print(\"     |-(5) Baja disponibilidad de Fosforo (Precipitación)\");\n",
    "        print(\"     |-(6) Baja disponibilidad de Calcio\");\n",
    "        print(\"     |-(7) Contenido de Aluminio\");\n",
    "        \n",
    "           \n",
    "        \n",
    "#rule 42\n",
    "@Rule(AnalisisDeSuelo(arena=P(lambda arena:arena >= 50.0) & P(lambda PH:PH == ACIDO) & P(lambda CE:CE == ALTA)) )            \n",
    "def metodo():\n",
    "        print(\"\\n\\n\\n\");\n",
    "        print(\"     |-(1) Revisar las mediciones realizadas.\");\n",
    "\n",
    "#rule 43\n",
    "@Rule(AnalisisDeSuelo(limo=P(lambda limo:limo >= 45.0) & P(lambda PH:PH ==  ACIDO) & P(lambda CE:CE == ALTA)) )            \n",
    "def metodo():\n",
    "    \n",
    "        print(\"\\n\\n\\n\");\n",
    "        print(\"     |-(1) Contenido de Aluminio\");\n",
    "        print(\"     |-(2) Sulfatos altos\");    \n",
    "        print(\"     |-(3) Impedancia\");\n",
    "        \n",
    "#rule 44\n",
    "@Rule(AnalisisDeSuelo(limo=P(lambda limo:limo <= 40.0) & P( lambda arena:arena <= 40.0) & P(lambda arcilla:arcilla <= 40.0) & P(lambda PH:PH == ACIDO) & P(lambda CE:CE == ALTA)) )            \n",
    "def metodo():\n",
    "    \n",
    "        print(\"\\n\\n\\n\");\n",
    "        print(\"     |-(1) Baja disponibilidad de Fosforo (Precipitación)\");\n",
    "        print(\"     |-(2) Baja disponibilidad de Calcio\"); \n",
    "        \n",
    "#rule 45\n",
    "@Rule(AnalisisDeSuelo(arcilla=P(lambda arcilla:arcilla >= 40.0) & P(lambda PH:PH == ACIDO )& P(lambda CE:CE == BAJA)) )            \n",
    "def metodo():\n",
    "        print(\"\\n\\n\\n\");\n",
    "        print(\"     |-(1) Limitaciones de movimiento de agua\");\n",
    "        print(\"     |-(2) Baja difusion de Oxigeno y flujo de gases\");    \n",
    "        print(\"     |-(3) Baja mineralizacion de MO (Baja actvidad microbiologica\");\n",
    "        print(\"     |-(4) Acumulacion de iones alcalinoterreos\t\");\n",
    "        print(\"     |-(5) Baja disponibilidad de elementos menores \");\n",
    "\n",
    "        \n",
    "#rule 46\n",
    "@Rule(AnalisisDeSuelo(arena=P(lambda arena:arena >= 50.0) & P(lambda PH:PH == ACIDO) & P(lambda CE:CE == BAJA)) )            \n",
    "def metodo():\n",
    "    \n",
    "        print(\"\\n\\n\\n\");\n",
    "        print(\"     |-(1) Revisar las mediciones realizadas.\");\n",
    "    \n",
    "    \n",
    "#rule 47\n",
    "@Rule(AnalisisDeSuelo(limo=P(lambda limo:limo >= 45.0) & P(lambda PH:PH == ACIDO) & P(lambda CE:CE == BAJA)) )            \n",
    "def metodo():\n",
    "    \n",
    "        print(\"\\n\\n\\n\");\n",
    "        print(\"     |-(1) Coloraciones grises suelo (Glaizeado)\");\n",
    "        print(\"     |-(2) Suelo Hidromorfico\");    \n",
    "        print(\"     |-(3) Limitaciones fisicas temporales\");\n",
    "        print(\"     |-(4) Baja difusion de Oxigeno y flujo de gases\");\n",
    "        print(\"     |-(5) Baja disponibilidad de elementos menores \");\n",
    "       "
   ]
  },
  {
   "cell_type": "code",
   "execution_count": null,
   "metadata": {},
   "outputs": [],
   "source": []
  },
  {
   "cell_type": "code",
   "execution_count": null,
   "metadata": {},
   "outputs": [],
   "source": []
  }
 ],
 "metadata": {
  "kernelspec": {
   "display_name": "Python 3",
   "language": "python",
   "name": "python3"
  },
  "language_info": {
   "codemirror_mode": {
    "name": "ipython",
    "version": 3
   },
   "file_extension": ".py",
   "mimetype": "text/x-python",
   "name": "python",
   "nbconvert_exporter": "python",
   "pygments_lexer": "ipython3",
   "version": "3.7.3"
  }
 },
 "nbformat": 4,
 "nbformat_minor": 2
}
